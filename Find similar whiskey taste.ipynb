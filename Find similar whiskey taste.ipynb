{
 "cells": [
  {
   "cell_type": "code",
   "execution_count": 9,
   "metadata": {},
   "outputs": [],
   "source": [
    "import pandas as pd\n",
    "from sklearn.metrics.pairwise import cosine_similarity"
   ]
  },
  {
   "cell_type": "code",
   "execution_count": 10,
   "metadata": {},
   "outputs": [],
   "source": [
    "# select the attributes ( df ) and the whiskyes names\n",
    "\n",
    "df = pd.read_csv(\"data/whisky_only_attr.csv\", usecols=[\"Body\",\"Sweetness\",\"Smoky\",\"Medicinal\",\"Tobacco\",\"Honey\",\"Spicy\",\"Winey\",\"Nutty\",\"Malty\",\"Fruity\",\"Floral\"])\n",
    "data = pd.read_csv(\"data/whisky.csv\", usecols=[\"Distillery\"])\n"
   ]
  },
  {
   "cell_type": "code",
   "execution_count": 11,
   "metadata": {},
   "outputs": [],
   "source": [
    "# helper functions\n",
    "\n",
    "def get_title_from_index(index):\n",
    "    return data[data.index == index][\"Distillery\"].values[0]\n",
    "def get_index_from_title(title):\n",
    "    return data[data.Distillery == title][\"index\"].values[0]"
   ]
  },
  {
   "cell_type": "code",
   "execution_count": 12,
   "metadata": {},
   "outputs": [],
   "source": [
    "# https://scikit-learn.org/stable/modules/generated/sklearn.metrics.pairwise.cosine_similarity.html\n",
    "# https://en.wikipedia.org/wiki/Cosine_similarity\n",
    "\n",
    "cosine_sim = cosine_similarity(df.values)"
   ]
  },
  {
   "cell_type": "code",
   "execution_count": 13,
   "metadata": {},
   "outputs": [],
   "source": [
    "# choose the name of the whisky\n",
    "whisky = \"Bowmore\""
   ]
  },
  {
   "cell_type": "code",
   "execution_count": 14,
   "metadata": {},
   "outputs": [],
   "source": [
    "whisky_index = data[data.Distillery == whisky].index.values[0]\n",
    "similar_whiskeys = list(enumerate(cosine_sim[whisky_index]))\n",
    "sorted_similar_whiskeys = sorted(similar_whiskeys,key=lambda x:x[1],reverse=True)[1:]"
   ]
  },
  {
   "cell_type": "code",
   "execution_count": 15,
   "metadata": {},
   "outputs": [
    {
     "data": {
      "text/plain": [
       "[(53, 0.9548637106322311),\n",
       " (15, 0.9304083928170914),\n",
       " (74, 0.9240616554505461),\n",
       " (82, 0.9095085938862485),\n",
       " (28, 0.9080252220734665),\n",
       " (65, 0.9037378388935388),\n",
       " (0, 0.9022141990953614),\n",
       " (17, 0.9022141990953614),\n",
       " (24, 0.9005630278936679),\n",
       " (19, 0.898645105261295),\n",
       " (12, 0.8911327886790069),\n",
       " (56, 0.8860760232362955),\n",
       " (14, 0.8819927235900454),\n",
       " (71, 0.879191640756707),\n",
       " (48, 0.8790490729915326),\n",
       " (52, 0.8787760582097434),\n",
       " (55, 0.8775269089525566),\n",
       " (54, 0.8767140075192091),\n",
       " (70, 0.875547388229955),\n",
       " (5, 0.8751750525175063),\n",
       " (50, 0.8750750267954218),\n",
       " (69, 0.8732726046411892),\n",
       " (27, 0.8732726046411889),\n",
       " (33, 0.8696565534786725),\n",
       " (11, 0.8677218312746244),\n",
       " (38, 0.8657680793384716),\n",
       " (26, 0.8597269536210953),\n",
       " (34, 0.8574929257125441),\n",
       " (60, 0.8574929257125441),\n",
       " (80, 0.8574929257125441),\n",
       " (1, 0.8572611395410675),\n",
       " (67, 0.8529411764705882),\n",
       " (9, 0.8488746876271653),\n",
       " (21, 0.8468097984399409),\n",
       " (4, 0.8454027929649516),\n",
       " (36, 0.8454027929649516),\n",
       " (39, 0.8426648406178137),\n",
       " (20, 0.8426648406178135),\n",
       " (63, 0.8409632877462001),\n",
       " (25, 0.8406680016960503),\n",
       " (10, 0.8404750732848711),\n",
       " (77, 0.840475073284871),\n",
       " (49, 0.8401680504168059),\n",
       " (43, 0.8302909552086492),\n",
       " (7, 0.8289098281887928),\n",
       " (79, 0.8289098281887927),\n",
       " (83, 0.8280086818880265),\n",
       " (13, 0.8235294117647058),\n",
       " (47, 0.8224783208299741),\n",
       " (68, 0.8185577344976237),\n",
       " (29, 0.8140915784106941),\n",
       " (37, 0.8134892168199604),\n",
       " (72, 0.8116794499134278),\n",
       " (75, 0.80860754006264),\n",
       " (41, 0.807207352795575),\n",
       " (78, 0.8051610483161056),\n",
       " (44, 0.8021111848996849),\n",
       " (2, 0.7963908027525799),\n",
       " (22, 0.7961621941231025),\n",
       " (59, 0.7941176470588235),\n",
       " (23, 0.7938841860374447),\n",
       " (31, 0.7921180343813394),\n",
       " (61, 0.7921180343813394),\n",
       " (73, 0.7921180343813393),\n",
       " (32, 0.7921180343813392),\n",
       " (66, 0.7882407813680821),\n",
       " (8, 0.7735737130957594),\n",
       " (42, 0.7723284457212328),\n",
       " (76, 0.7717436331412896),\n",
       " (40, 0.767836045333487),\n",
       " (62, 0.7657841336607306),\n",
       " (51, 0.7643157063581784),\n",
       " (3, 0.7591252771714813),\n",
       " (64, 0.7579238282385404),\n",
       " (16, 0.7545937746270388),\n",
       " (81, 0.7487012977269326),\n",
       " (30, 0.745434282084989),\n",
       " (57, 0.743122626033224),\n",
       " (84, 0.7288689868556625),\n",
       " (58, 0.7104413351968636),\n",
       " (46, 0.7006227308283302),\n",
       " (85, 0.7006227308283302),\n",
       " (45, 0.6794386128595439),\n",
       " (35, 0.6655122646461623),\n",
       " (6, 0.6366560157203739)]"
      ]
     },
     "execution_count": 15,
     "metadata": {},
     "output_type": "execute_result"
    }
   ],
   "source": [
    "sorted_similar_whiskeys"
   ]
  },
  {
   "cell_type": "code",
   "execution_count": 16,
   "metadata": {},
   "outputs": [
    {
     "name": "stdout",
     "output_type": "stream",
     "text": [
      "Top 5 similar whiskeys to Bowmore are:\n",
      "\n",
      "Highland Park -- 95.49 %\n",
      "Benromach -- 93.04 %\n",
      "Springbank -- 92.41 %\n",
      "Tomatin -- 90.95 %\n",
      "Dalwhinnie -- 90.8 %\n",
      "Mortlach -- 90.37 %\n"
     ]
    }
   ],
   "source": [
    "i=0\n",
    "print(\"Top 5 similar whiskeys to \"+whisky+\" are:\\n\")\n",
    "for element in sorted_similar_whiskeys:\n",
    "    print(get_title_from_index(element[0]) + \" -- \" + str(round(element[1] * 100,2)) + \" %\")\n",
    "    i=i+1\n",
    "    if i>5:\n",
    "        break"
   ]
  }
 ],
 "metadata": {
  "kernelspec": {
   "display_name": "Python 3",
   "language": "python",
   "name": "python3"
  },
  "language_info": {
   "codemirror_mode": {
    "name": "ipython",
    "version": 3
   },
   "file_extension": ".py",
   "mimetype": "text/x-python",
   "name": "python",
   "nbconvert_exporter": "python",
   "pygments_lexer": "ipython3",
   "version": "3.6.10"
  }
 },
 "nbformat": 4,
 "nbformat_minor": 4
}
